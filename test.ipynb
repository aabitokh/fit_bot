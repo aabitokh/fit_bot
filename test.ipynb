{
 "cells": [
  {
   "cell_type": "code",
   "execution_count": 4,
   "metadata": {},
   "outputs": [],
   "source": [
    "tr_data = {'start_training': '2024-09-22 18:13:14.829210', \n",
    "                'muscle_group':\n",
    "                {'chest_training': {'bench_press': ['52 12, 62 12, 62 12'],\n",
    "                                    'bench_press_up': ['64 12, 64 21, 64 12'],\n",
    "                                        'breast_dilution': ['54 12, 43 12, 64 12']}}}"
   ]
  },
  {
   "cell_type": "code",
   "execution_count": 5,
   "metadata": {},
   "outputs": [],
   "source": [
    "from models.training import Training"
   ]
  },
  {
   "cell_type": "code",
   "execution_count": 6,
   "metadata": {},
   "outputs": [],
   "source": [
    "tr = Training(data = tr_data)"
   ]
  },
  {
   "cell_type": "code",
   "execution_count": 7,
   "metadata": {},
   "outputs": [
    {
     "data": {
      "text/plain": [
       "'2024-09-22 18:13:14.829210'"
      ]
     },
     "execution_count": 7,
     "metadata": {},
     "output_type": "execute_result"
    }
   ],
   "source": [
    "tr.start_training"
   ]
  },
  {
   "cell_type": "code",
   "execution_count": 8,
   "metadata": {},
   "outputs": [
    {
     "data": {
      "text/plain": [
       "['bench_press', 'bench_press_up', 'breast_dilution']"
      ]
     },
     "execution_count": 8,
     "metadata": {},
     "output_type": "execute_result"
    }
   ],
   "source": [
    "tr.done_exercises"
   ]
  },
  {
   "cell_type": "code",
   "execution_count": 10,
   "metadata": {},
   "outputs": [
    {
     "data": {
      "text/plain": [
       "{'bench_press': 2112, 'bench_press_up': 2880, 'breast_dilution': 1932}"
      ]
     },
     "execution_count": 10,
     "metadata": {},
     "output_type": "execute_result"
    }
   ],
   "source": [
    "tr.tonnage"
   ]
  },
  {
   "cell_type": "code",
   "execution_count": 20,
   "metadata": {},
   "outputs": [
    {
     "data": {
      "text/plain": [
       "['bench_press', 'bench_press_up', 'breast_dilution']"
      ]
     },
     "execution_count": 20,
     "metadata": {},
     "output_type": "execute_result"
    }
   ],
   "source": [
    "list(tr.data['muscle_group']['chest_training'].keys())"
   ]
  },
  {
   "cell_type": "code",
   "execution_count": 1,
   "metadata": {},
   "outputs": [
    {
     "name": "stdout",
     "output_type": "stream",
     "text": [
      "(1, '2024-09-22 19:08:55.512924', 'chest_training', 'bench_press', 1344)\n",
      "(2, '2024-09-22 19:08:55.512924', 'chest_training', 'bench_press_up', 1800)\n",
      "(3, '2024-09-22 19:10:24.855134', 'shoulders_trainig', 'shoulders_press', 333)\n"
     ]
    }
   ],
   "source": [
    "import sqlite3\n",
    "\n",
    "# Укажите путь к вашему файлу базы данных\n",
    "db_file = 'main_db.sqlite'\n",
    "\n",
    "# Подключение к базе данных (если файл не существует, он будет создан)\n",
    "connection = sqlite3.connect(db_file)\n",
    "\n",
    "# Создание объекта курсора для выполнения SQL-запросов\n",
    "cursor = connection.cursor()\n",
    "\n",
    "\n",
    "# Пример выборки данных\n",
    "cursor.execute('SELECT * FROM trainings_table')\n",
    "rows = cursor.fetchall()\n",
    "for row in rows:\n",
    "    print(row)\n",
    "\n",
    "# Закрытие соединения\n",
    "cursor.close()\n",
    "connection.close()\n"
   ]
  },
  {
   "cell_type": "code",
   "execution_count": null,
   "metadata": {},
   "outputs": [],
   "source": []
  }
 ],
 "metadata": {
  "kernelspec": {
   "display_name": ".venv",
   "language": "python",
   "name": "python3"
  },
  "language_info": {
   "codemirror_mode": {
    "name": "ipython",
    "version": 3
   },
   "file_extension": ".py",
   "mimetype": "text/x-python",
   "name": "python",
   "nbconvert_exporter": "python",
   "pygments_lexer": "ipython3",
   "version": "3.10.2"
  }
 },
 "nbformat": 4,
 "nbformat_minor": 2
}
